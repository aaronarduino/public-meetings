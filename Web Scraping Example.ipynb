{
 "cells": [
  {
   "cell_type": "markdown",
   "metadata": {},
   "source": [
    "**Scrape example html page for data science meetings. The html looks like this:**\n",
    "```html\n",
    "<!DOCTYPE html>\n",
    "<html>\n",
    "  <head>\n",
    "    <meta charset=\"UTF-8\">\n",
    "    <title>Data Science Meetings</title>\n",
    "  </head>\n",
    "  <body>\n",
    "   <h1>2017 Meeting Schedule</h1>\n",
    "      \n",
    "    <div class=\"information\">\n",
    "      <h2>Learn Data Science</h2>\n",
    "      <p title=\"description\">Learn Data science with Julia, Python &amp; R (Jupyter)</p>\n",
    "      <address>216 N Mosley St, Wichita, KS 67202</address>\n",
    "      <p>Time: 6:30 PM <strong>Meeting lasts 1 hour</strong></p>\n",
    "      <p><a href=\"https://www.continuum.io/why-anaconda\">Anaconda</a></p>\n",
    "      <a href=\"mailto:datascience@goat.org\">datascience@goat.org</a>\n",
    "    </div>\n",
    "      \n",
    "   <ul id=\"meeting-list\">\n",
    "      <li>January 23</li>\n",
    "      <li>February 12</li>\n",
    "      <li>March 9</li>\n",
    "      <li>April 30</li>\n",
    "      <li>May 1</li>\n",
    "   </ul>\n",
    "  </body>\n",
    "</html>```"
   ]
  },
  {
   "cell_type": "markdown",
   "metadata": {},
   "source": [
    "**Import libraries**"
   ]
  },
  {
   "cell_type": "code",
   "execution_count": 1,
   "metadata": {
    "ExecuteTime": {
     "end_time": "2016-12-22T20:33:00.168055",
     "start_time": "2016-12-22T20:33:00.005104"
    },
    "collapsed": true
   },
   "outputs": [],
   "source": [
    "import urllib.request as request\n",
    "from bs4 import BeautifulSoup as BS\n",
    "import re"
   ]
  },
  {
   "cell_type": "markdown",
   "metadata": {},
   "source": [
    "**Fetch sample meeting schedule html page**\n",
    "\n",
    "And turn it into a beautiful soup for easy parsing."
   ]
  },
  {
   "cell_type": "code",
   "execution_count": 40,
   "metadata": {
    "ExecuteTime": {
     "end_time": "2016-12-22T21:31:22.980847",
     "start_time": "2016-12-22T21:31:22.959822"
    },
    "collapsed": false
   },
   "outputs": [
    {
     "data": {
      "text/plain": [
       "bs4.BeautifulSoup"
      ]
     },
     "execution_count": 40,
     "metadata": {},
     "output_type": "execute_result"
    }
   ],
   "source": [
    "url = \"http://localhost:8888/files/Open%20Wichita/files/meeting_schedule.html\"\n",
    "with request.urlopen(url) as response:\n",
    "    html = response.read()\n",
    "    \n",
    "soup = BS(html, 'html.parser')\n",
    "type(soup)"
   ]
  },
  {
   "cell_type": "markdown",
   "metadata": {},
   "source": [
    "**Get the information div**\n",
    "\n",
    "Contains meeting type information."
   ]
  },
  {
   "cell_type": "code",
   "execution_count": 3,
   "metadata": {
    "ExecuteTime": {
     "end_time": "2016-12-22T20:33:00.325147",
     "start_time": "2016-12-22T20:33:00.315386"
    },
    "collapsed": false
   },
   "outputs": [
    {
     "data": {
      "text/plain": [
       "<div class=\"information\">\n",
       "<h2>Learn Data Science</h2>\n",
       "<p title=\"description\">Learn Data science with Julia, Python &amp; R (Jupyter)</p>\n",
       "<address>216 N Mosley St, Wichita, KS 67202</address>\n",
       "<p>Time: 6:30 PM <strong>Meeting lasts 1 hour</strong></p>\n",
       "<p><a href=\"https://www.continuum.io/why-anaconda\">Anaconda</a></p>\n",
       "<a href=\"mailto:datascience@goat.org\">datascience@goat.org</a>\n",
       "</div>"
      ]
     },
     "execution_count": 3,
     "metadata": {},
     "output_type": "execute_result"
    }
   ],
   "source": [
    "info = soup.find(class_=\"information\")\n",
    "info"
   ]
  },
  {
   "cell_type": "markdown",
   "metadata": {
    "ExecuteTime": {
     "end_time": "2016-12-22T19:06:26.838743",
     "start_time": "2016-12-22T19:06:26.829809"
    }
   },
   "source": [
    "**Create meeting fields dictionary**"
   ]
  },
  {
   "cell_type": "code",
   "execution_count": 4,
   "metadata": {
    "ExecuteTime": {
     "end_time": "2016-12-22T20:33:00.464911",
     "start_time": "2016-12-22T20:33:00.334182"
    },
    "collapsed": false
   },
   "outputs": [],
   "source": [
    "fields = {\"type\": \"data_science\"}"
   ]
  },
  {
   "cell_type": "markdown",
   "metadata": {},
   "source": [
    "**Get the Meetting summary (title)**\n",
    "\n",
    "It's in the h2 tag, which is a property of the information div we got above."
   ]
  },
  {
   "cell_type": "code",
   "execution_count": 5,
   "metadata": {
    "ExecuteTime": {
     "end_time": "2016-12-22T20:33:00.509323",
     "start_time": "2016-12-22T20:33:00.474714"
    },
    "collapsed": false
   },
   "outputs": [
    {
     "data": {
      "text/plain": [
       "<h2>Learn Data Science</h2>"
      ]
     },
     "execution_count": 5,
     "metadata": {},
     "output_type": "execute_result"
    }
   ],
   "source": [
    "summary = info.h2\n",
    "summary"
   ]
  },
  {
   "cell_type": "markdown",
   "metadata": {},
   "source": [
    "**get_text extracts text from a tag**"
   ]
  },
  {
   "cell_type": "code",
   "execution_count": 6,
   "metadata": {
    "ExecuteTime": {
     "end_time": "2016-12-22T20:33:00.520013",
     "start_time": "2016-12-22T20:33:00.512825"
    },
    "collapsed": false
   },
   "outputs": [
    {
     "data": {
      "text/plain": [
       "'Learn Data Science'"
      ]
     },
     "execution_count": 6,
     "metadata": {},
     "output_type": "execute_result"
    }
   ],
   "source": [
    "summary.get_text()"
   ]
  },
  {
   "cell_type": "code",
   "execution_count": 7,
   "metadata": {
    "ExecuteTime": {
     "end_time": "2016-12-22T20:33:00.550399",
     "start_time": "2016-12-22T20:33:00.527550"
    },
    "collapsed": false
   },
   "outputs": [
    {
     "data": {
      "text/plain": [
       "{'summary': 'Learn Data Science', 'type': 'data_science'}"
      ]
     },
     "execution_count": 7,
     "metadata": {},
     "output_type": "execute_result"
    }
   ],
   "source": [
    "fields[\"summary\"] = summary.get_text()\n",
    "fields"
   ]
  },
  {
   "cell_type": "markdown",
   "metadata": {},
   "source": [
    "**Description is in the p tag with a title**"
   ]
  },
  {
   "cell_type": "code",
   "execution_count": 8,
   "metadata": {
    "ExecuteTime": {
     "end_time": "2016-12-22T20:33:00.577882",
     "start_time": "2016-12-22T20:33:00.561443"
    },
    "collapsed": false
   },
   "outputs": [
    {
     "data": {
      "text/plain": [
       "<p title=\"description\">Learn Data science with Julia, Python &amp; R (Jupyter)</p>"
      ]
     },
     "execution_count": 8,
     "metadata": {},
     "output_type": "execute_result"
    }
   ],
   "source": [
    "description = info.find(lambda tag: tag.has_attr(\"title\"))\n",
    "description"
   ]
  },
  {
   "cell_type": "code",
   "execution_count": 9,
   "metadata": {
    "ExecuteTime": {
     "end_time": "2016-12-22T20:33:00.585986",
     "start_time": "2016-12-22T20:33:00.581240"
    },
    "collapsed": true
   },
   "outputs": [],
   "source": [
    "fields[\"description\"] = description.get_text()"
   ]
  },
  {
   "cell_type": "markdown",
   "metadata": {},
   "source": [
    "**Address is in the address tag**"
   ]
  },
  {
   "cell_type": "code",
   "execution_count": 10,
   "metadata": {
    "ExecuteTime": {
     "end_time": "2016-12-22T20:33:00.655590",
     "start_time": "2016-12-22T20:33:00.594995"
    },
    "collapsed": false
   },
   "outputs": [
    {
     "data": {
      "text/plain": [
       "<address>216 N Mosley St, Wichita, KS 67202</address>"
      ]
     },
     "execution_count": 10,
     "metadata": {},
     "output_type": "execute_result"
    }
   ],
   "source": [
    "address = info.address\n",
    "address"
   ]
  },
  {
   "cell_type": "code",
   "execution_count": 11,
   "metadata": {
    "ExecuteTime": {
     "end_time": "2016-12-22T20:33:00.664585",
     "start_time": "2016-12-22T20:33:00.659595"
    },
    "collapsed": false
   },
   "outputs": [],
   "source": [
    "fields[\"location\"] = address.get_text()"
   ]
  },
  {
   "cell_type": "markdown",
   "metadata": {},
   "source": [
    "**Match the meeting time based on Time in the text**"
   ]
  },
  {
   "cell_type": "code",
   "execution_count": 12,
   "metadata": {
    "ExecuteTime": {
     "end_time": "2016-12-22T20:33:00.687286",
     "start_time": "2016-12-22T20:33:00.667293"
    },
    "collapsed": false
   },
   "outputs": [
    {
     "data": {
      "text/plain": [
       "'Time: 6:30 PM '"
      ]
     },
     "execution_count": 12,
     "metadata": {},
     "output_type": "execute_result"
    }
   ],
   "source": [
    "meeting_time = info.find(string=re.compile(\"Time\"))\n",
    "meeting_time"
   ]
  },
  {
   "cell_type": "code",
   "execution_count": 13,
   "metadata": {
    "ExecuteTime": {
     "end_time": "2016-12-22T20:33:00.803287",
     "start_time": "2016-12-22T20:33:00.759867"
    },
    "collapsed": false
   },
   "outputs": [
    {
     "data": {
      "text/plain": [
       "bs4.element.NavigableString"
      ]
     },
     "execution_count": 13,
     "metadata": {},
     "output_type": "execute_result"
    }
   ],
   "source": [
    "type(meeting_time)"
   ]
  },
  {
   "cell_type": "markdown",
   "metadata": {},
   "source": [
    "**Match the hour and minutes**"
   ]
  },
  {
   "cell_type": "code",
   "execution_count": 14,
   "metadata": {
    "ExecuteTime": {
     "end_time": "2016-12-22T20:33:00.819830",
     "start_time": "2016-12-22T20:33:00.806723"
    },
    "collapsed": false
   },
   "outputs": [
    {
     "data": {
      "text/plain": [
       "['6:30']"
      ]
     },
     "execution_count": 14,
     "metadata": {},
     "output_type": "execute_result"
    }
   ],
   "source": [
    "pattern = re.compile(\"\\d{1,2}:\\d\\d\")\n",
    "match = pattern.findall(meeting_time)\n",
    "match"
   ]
  },
  {
   "cell_type": "code",
   "execution_count": 15,
   "metadata": {
    "ExecuteTime": {
     "end_time": "2016-12-22T20:33:00.899809",
     "start_time": "2016-12-22T20:33:00.870535"
    },
    "collapsed": false
   },
   "outputs": [
    {
     "data": {
      "text/plain": [
       "(6, 30)"
      ]
     },
     "execution_count": 15,
     "metadata": {},
     "output_type": "execute_result"
    }
   ],
   "source": [
    "hour, minute = match[0].split(\":\")\n",
    "hour, minute = int(hour), int(minute)\n",
    "hour, minute"
   ]
  },
  {
   "cell_type": "code",
   "execution_count": 16,
   "metadata": {
    "ExecuteTime": {
     "end_time": "2016-12-22T20:33:00.915893",
     "start_time": "2016-12-22T20:33:00.907981"
    },
    "collapsed": false
   },
   "outputs": [
    {
     "data": {
      "text/plain": [
       "True"
      ]
     },
     "execution_count": 16,
     "metadata": {},
     "output_type": "execute_result"
    }
   ],
   "source": [
    "'PM' in meeting_time"
   ]
  },
  {
   "cell_type": "code",
   "execution_count": 17,
   "metadata": {
    "ExecuteTime": {
     "end_time": "2016-12-22T20:33:00.974599",
     "start_time": "2016-12-22T20:33:00.929158"
    },
    "collapsed": false
   },
   "outputs": [
    {
     "data": {
      "text/plain": [
       "18"
      ]
     },
     "execution_count": 17,
     "metadata": {},
     "output_type": "execute_result"
    }
   ],
   "source": [
    "if 'PM' in meeting_time:\n",
    "    hour += 12\n",
    "    \n",
    "hour"
   ]
  },
  {
   "cell_type": "code",
   "execution_count": 18,
   "metadata": {
    "ExecuteTime": {
     "end_time": "2016-12-22T20:33:00.990035",
     "start_time": "2016-12-22T20:33:00.982313"
    },
    "collapsed": true
   },
   "outputs": [],
   "source": [
    "date_props = {\"hour\": hour, \"minute\": minute}"
   ]
  },
  {
   "cell_type": "markdown",
   "metadata": {},
   "source": [
    "**Get the meeting length**"
   ]
  },
  {
   "cell_type": "code",
   "execution_count": 19,
   "metadata": {
    "ExecuteTime": {
     "end_time": "2016-12-22T20:33:01.039910",
     "start_time": "2016-12-22T20:33:01.026071"
    },
    "collapsed": false
   },
   "outputs": [
    {
     "data": {
      "text/plain": [
       "<strong>Meeting lasts 1 hour</strong>"
      ]
     },
     "execution_count": 19,
     "metadata": {},
     "output_type": "execute_result"
    }
   ],
   "source": [
    "duration = info.find(\"strong\")\n",
    "duration"
   ]
  },
  {
   "cell_type": "code",
   "execution_count": 20,
   "metadata": {
    "ExecuteTime": {
     "end_time": "2016-12-22T20:33:01.057013",
     "start_time": "2016-12-22T20:33:01.045521"
    },
    "collapsed": false
   },
   "outputs": [
    {
     "data": {
      "text/plain": [
       "<_sre.SRE_Match object; span=(14, 15), match='1'>"
      ]
     },
     "execution_count": 20,
     "metadata": {},
     "output_type": "execute_result"
    }
   ],
   "source": [
    "match_day = re.search(\"\\d\", duration.get_text())\n",
    "match_day"
   ]
  },
  {
   "cell_type": "code",
   "execution_count": 21,
   "metadata": {
    "ExecuteTime": {
     "end_time": "2016-12-22T20:33:01.065424",
     "start_time": "2016-12-22T20:33:01.060018"
    },
    "collapsed": true
   },
   "outputs": [],
   "source": [
    "fields[\"duration\"] = int(match_day.group())"
   ]
  },
  {
   "cell_type": "markdown",
   "metadata": {},
   "source": [
    "**Find the links in information**"
   ]
  },
  {
   "cell_type": "code",
   "execution_count": 22,
   "metadata": {
    "ExecuteTime": {
     "end_time": "2016-12-22T20:33:01.081859",
     "start_time": "2016-12-22T20:33:01.073498"
    },
    "collapsed": false
   },
   "outputs": [
    {
     "data": {
      "text/plain": [
       "[<a href=\"https://www.continuum.io/why-anaconda\">Anaconda</a>,\n",
       " <a href=\"mailto:datascience@goat.org\">datascience@goat.org</a>]"
      ]
     },
     "execution_count": 22,
     "metadata": {},
     "output_type": "execute_result"
    }
   ],
   "source": [
    "links = info.find_all(\"a\")\n",
    "links"
   ]
  },
  {
   "cell_type": "code",
   "execution_count": 23,
   "metadata": {
    "ExecuteTime": {
     "end_time": "2016-12-22T20:33:01.091840",
     "start_time": "2016-12-22T20:33:01.085750"
    },
    "collapsed": false
   },
   "outputs": [
    {
     "data": {
      "text/plain": [
       "{'href': 'https://www.continuum.io/why-anaconda'}"
      ]
     },
     "execution_count": 23,
     "metadata": {},
     "output_type": "execute_result"
    }
   ],
   "source": [
    "agenda_link = links[0]\n",
    "agenda_link.attrs"
   ]
  },
  {
   "cell_type": "code",
   "execution_count": 24,
   "metadata": {
    "ExecuteTime": {
     "end_time": "2016-12-22T20:33:01.098044",
     "start_time": "2016-12-22T20:33:01.094211"
    },
    "collapsed": true
   },
   "outputs": [],
   "source": [
    "fields[\"agenda\"] = agenda_link.attrs['href']"
   ]
  },
  {
   "cell_type": "code",
   "execution_count": 25,
   "metadata": {
    "ExecuteTime": {
     "end_time": "2016-12-22T20:33:01.107453",
     "start_time": "2016-12-22T20:33:01.100771"
    },
    "collapsed": false
   },
   "outputs": [
    {
     "data": {
      "text/plain": [
       "{'agenda': 'https://www.continuum.io/why-anaconda',\n",
       " 'description': 'Learn Data science with Julia, Python & R (Jupyter)',\n",
       " 'duration': 1,\n",
       " 'email': 'datascience@goat.org',\n",
       " 'location': '216 N Mosley St, Wichita, KS 67202',\n",
       " 'summary': 'Learn Data Science',\n",
       " 'type': 'data_science'}"
      ]
     },
     "execution_count": 25,
     "metadata": {},
     "output_type": "execute_result"
    }
   ],
   "source": [
    "fields[\"email\"] = links[1].text\n",
    "fields"
   ]
  },
  {
   "cell_type": "markdown",
   "metadata": {},
   "source": [
    "**Extract meeting dates**"
   ]
  },
  {
   "cell_type": "code",
   "execution_count": 26,
   "metadata": {
    "ExecuteTime": {
     "end_time": "2016-12-22T20:33:01.118744",
     "start_time": "2016-12-22T20:33:01.110086"
    },
    "collapsed": false
   },
   "outputs": [
    {
     "data": {
      "text/plain": [
       "<ul id=\"meeting-list\">\n",
       "<li>January 23</li>\n",
       "<li>February 12</li>\n",
       "<li>March 9</li>\n",
       "<li>April 30</li>\n",
       "<li>May 1</li>\n",
       "</ul>"
      ]
     },
     "execution_count": 26,
     "metadata": {},
     "output_type": "execute_result"
    }
   ],
   "source": [
    "meeting_list = soup.find(id=\"meeting-list\")\n",
    "meeting_list"
   ]
  },
  {
   "cell_type": "code",
   "execution_count": 27,
   "metadata": {
    "ExecuteTime": {
     "end_time": "2016-12-22T20:33:01.376468",
     "start_time": "2016-12-22T20:33:01.121495"
    },
    "collapsed": false
   },
   "outputs": [
    {
     "data": {
      "text/plain": [
       "'\\nJanuary 23\\nFebruary 12\\nMarch 9\\nApril 30\\nMay 1\\n'"
      ]
     },
     "execution_count": 27,
     "metadata": {},
     "output_type": "execute_result"
    }
   ],
   "source": [
    "meeting_list.get_text()"
   ]
  },
  {
   "cell_type": "code",
   "execution_count": 28,
   "metadata": {
    "ExecuteTime": {
     "end_time": "2016-12-22T20:33:01.386664",
     "start_time": "2016-12-22T20:33:01.379962"
    },
    "collapsed": true
   },
   "outputs": [],
   "source": [
    "# use to convert to ordinal number\n",
    "months = ['January', 'February', 'March', 'April', 'May', 'June', 'July', 'August', 'September', 'October', \n",
    "          'November', 'December']"
   ]
  },
  {
   "cell_type": "markdown",
   "metadata": {},
   "source": [
    "**Match on anuy month space 1 or 2 digit days**"
   ]
  },
  {
   "cell_type": "code",
   "execution_count": 29,
   "metadata": {
    "ExecuteTime": {
     "end_time": "2016-12-22T20:33:01.399529",
     "start_time": "2016-12-22T20:33:01.390092"
    },
    "collapsed": false
   },
   "outputs": [
    {
     "data": {
      "text/plain": [
       "re.compile(r'(\\w+ \\d{1,2})', re.IGNORECASE|re.UNICODE)"
      ]
     },
     "execution_count": 29,
     "metadata": {},
     "output_type": "execute_result"
    }
   ],
   "source": [
    "event_pattern = re.compile(\"(\\w+ \\d{1,2})\", re.IGNORECASE)\n",
    "event_pattern"
   ]
  },
  {
   "cell_type": "code",
   "execution_count": 30,
   "metadata": {
    "ExecuteTime": {
     "end_time": "2016-12-22T20:33:01.418231",
     "start_time": "2016-12-22T20:33:01.403675"
    },
    "collapsed": false
   },
   "outputs": [
    {
     "data": {
      "text/plain": [
       "['January 23', 'February 12', 'March 9', 'April 30', 'May 1']"
      ]
     },
     "execution_count": 30,
     "metadata": {},
     "output_type": "execute_result"
    }
   ],
   "source": [
    "events = event_pattern.findall(meeting_list.get_text())\n",
    "events"
   ]
  },
  {
   "cell_type": "markdown",
   "metadata": {},
   "source": [
    "**Match month & day separately**"
   ]
  },
  {
   "cell_type": "code",
   "execution_count": 31,
   "metadata": {
    "ExecuteTime": {
     "end_time": "2016-12-22T20:33:01.435441",
     "start_time": "2016-12-22T20:33:01.421249"
    },
    "collapsed": false
   },
   "outputs": [
    {
     "data": {
      "text/plain": [
       "['March', '3']"
      ]
     },
     "execution_count": 31,
     "metadata": {},
     "output_type": "execute_result"
    }
   ],
   "source": [
    "pattern = re.compile(\"\\w+\", re.IGNORECASE)\n",
    "pattern.findall(\"March 3\")"
   ]
  },
  {
   "cell_type": "code",
   "execution_count": 32,
   "metadata": {
    "ExecuteTime": {
     "end_time": "2016-12-22T20:33:01.452983",
     "start_time": "2016-12-22T20:33:01.438704"
    },
    "collapsed": false
   },
   "outputs": [
    {
     "name": "stdout",
     "output_type": "stream",
     "text": [
      "meeting event on 1/23\n",
      "meeting event on 2/12\n",
      "meeting event on 3/9\n",
      "meeting event on 4/30\n",
      "meeting event on 5/1\n"
     ]
    }
   ],
   "source": [
    "for event in events:\n",
    "    match = pattern.findall(event)\n",
    "    month_text, day_text = match[0], match[1]\n",
    "    month = months.index(month_text) + 1 # convert to ordinal month\n",
    "    day = int(day_text)\n",
    "    \n",
    "    print(\"meeting event on {0}/{1}\".format(month, day))"
   ]
  },
  {
   "cell_type": "markdown",
   "metadata": {},
   "source": [
    "<hr style=\"border: 6px outset pink\">\n",
    "\n",
    "**Add Data Science Meeting**\n",
    "\n",
    "Inherit from Meeting base class in meetings_scraper"
   ]
  },
  {
   "cell_type": "code",
   "execution_count": 33,
   "metadata": {
    "ExecuteTime": {
     "end_time": "2016-12-22T20:33:03.349918",
     "start_time": "2016-12-22T20:33:01.457553"
    },
    "collapsed": true
   },
   "outputs": [],
   "source": [
    "from meetings_scraper import Meeting\n",
    "from datetime import datetime"
   ]
  },
  {
   "cell_type": "code",
   "execution_count": 34,
   "metadata": {
    "ExecuteTime": {
     "end_time": "2016-12-22T20:33:03.391153",
     "start_time": "2016-12-22T20:33:03.353237"
    },
    "collapsed": true
   },
   "outputs": [],
   "source": [
    "class DataScienceMeeting(Meeting):\n",
    "    def __init__(self, date, fields):\n",
    "        # Make sure date and fields are the right data type\n",
    "        assert (type(date) is dict), \"data must be a dictionary\"\n",
    "        assert (type(fields) is dict), \"fields must be a dictionary\"\n",
    "        # assert date hash values as integers??? \n",
    "        \n",
    "        self.date = datetime(date[\"year\"], date[\"month\"], date[\"day\"], date[\"hour\"], date[\"minute\"])\n",
    "        \n",
    "        # Add all the fields as attributes for this object\n",
    "        for key, value in fields.items():\n",
    "            self.__dict__[key] = value  \n",
    "            \n",
    "    # scraper method from code above could be added here\n",
    "    # def parse_meetings(self, soup):\n",
    "    #     Parse that beautiful soup, and create some meetings"
   ]
  },
  {
   "cell_type": "code",
   "execution_count": 35,
   "metadata": {
    "ExecuteTime": {
     "end_time": "2016-12-22T20:33:03.509830",
     "start_time": "2016-12-22T20:33:03.434376"
    },
    "collapsed": false
   },
   "outputs": [
    {
     "data": {
      "text/plain": [
       "Thu Apr 13 06:30 PM: Learn Data Science"
      ]
     },
     "execution_count": 35,
     "metadata": {},
     "output_type": "execute_result"
    }
   ],
   "source": [
    "date_props[\"year\"] = 2017\n",
    "date_props[\"month\"] = 4\n",
    "date_props[\"day\"] = 13\n",
    "\n",
    "meeting = DataScienceMeeting(date_props, fields)\n",
    "meeting"
   ]
  },
  {
   "cell_type": "code",
   "execution_count": 36,
   "metadata": {
    "ExecuteTime": {
     "end_time": "2016-12-22T20:33:03.520236",
     "start_time": "2016-12-22T20:33:03.513819"
    },
    "collapsed": false
   },
   "outputs": [
    {
     "name": "stdout",
     "output_type": "stream",
     "text": [
      "date : 2017-04-13 18:30:00\n",
      "location : 216 N Mosley St, Wichita, KS 67202\n",
      "description : Learn Data science with Julia, Python & R (Jupyter)\n",
      "email : datascience@goat.org\n",
      "summary : Learn Data Science\n",
      "agenda : https://www.continuum.io/why-anaconda\n",
      "duration : 1\n",
      "type : data_science\n"
     ]
    }
   ],
   "source": [
    "for key, value in meeting:\n",
    "    print(key, \":\", value)"
   ]
  },
  {
   "cell_type": "markdown",
   "metadata": {},
   "source": [
    "**Iteratively create meetings from parsed events list**"
   ]
  },
  {
   "cell_type": "code",
   "execution_count": 37,
   "metadata": {
    "ExecuteTime": {
     "end_time": "2016-12-22T20:33:03.553083",
     "start_time": "2016-12-22T20:33:03.523086"
    },
    "collapsed": false
   },
   "outputs": [
    {
     "data": {
      "text/plain": [
       "[Mon Jan 23 06:30 PM: Learn Data Science,\n",
       " Sun Feb 12 06:30 PM: Learn Data Science,\n",
       " Thu Mar 09 06:30 PM: Learn Data Science,\n",
       " Sun Apr 30 06:30 PM: Learn Data Science,\n",
       " Mon May 01 06:30 PM: Learn Data Science]"
      ]
     },
     "execution_count": 37,
     "metadata": {},
     "output_type": "execute_result"
    }
   ],
   "source": [
    "meetings = []\n",
    "for event in events:\n",
    "    match = pattern.findall(event)\n",
    "    month_text, day_text = match[0], match[1]\n",
    "    month = months.index(month_text) + 1 # convert to ordinal month\n",
    "    day = int(day_text)\n",
    "    \n",
    "    date_props[\"year\"] = 2017\n",
    "    date_props[\"month\"] = month\n",
    "    date_props[\"day\"] = day\n",
    "    \n",
    "    meeting = DataScienceMeeting(date_props, fields)\n",
    "    meetings.append(meeting)\n",
    "    \n",
    "meetings"
   ]
  },
  {
   "cell_type": "markdown",
   "metadata": {},
   "source": [
    "**Save last meeting to file in ical format**"
   ]
  },
  {
   "cell_type": "code",
   "execution_count": 38,
   "metadata": {
    "ExecuteTime": {
     "end_time": "2016-12-22T20:33:03.573251",
     "start_time": "2016-12-22T20:33:03.559463"
    },
    "collapsed": false
   },
   "outputs": [
    {
     "name": "stdout",
     "output_type": "stream",
     "text": [
      "Meeting saved to files/data_science_meeting_5_1_2017.ics\n"
     ]
    },
    {
     "data": {
      "text/plain": [
       "'files/data_science_meeting_5_1_2017.ics'"
      ]
     },
     "execution_count": 38,
     "metadata": {},
     "output_type": "execute_result"
    }
   ],
   "source": [
    "filename = meetings[-1].to_ics(True)\n",
    "filename"
   ]
  },
  {
   "cell_type": "markdown",
   "metadata": {},
   "source": [
    "**Read the .ics file back in**"
   ]
  },
  {
   "cell_type": "code",
   "execution_count": 39,
   "metadata": {
    "ExecuteTime": {
     "end_time": "2016-12-22T20:33:03.585525",
     "start_time": "2016-12-22T20:33:03.576410"
    },
    "collapsed": false
   },
   "outputs": [
    {
     "name": "stdout",
     "output_type": "stream",
     "text": [
      "BEGIN:VCALENDAR\n",
      "BEGIN:VEVENT\n",
      "SUMMARY:Learn Data Science\n",
      "DTSTART;VALUE=DATE-TIME:20170501T183000\n",
      "DTEND;VALUE=DATE-TIME:20170501T193000\n",
      "DTSTAMP;VALUE=DATE-TIME:20170501T183000Z\n",
      "DESCRIPTION:Learn Data science with Julia\\, Python & R (Jupyter)\n",
      "LOCATION:216 N Mosley St\\, Wichita\\, KS 67202\n",
      "URL:https://www.continuum.io/why-anaconda\n",
      "END:VEVENT\n",
      "END:VCALENDAR\n"
     ]
    }
   ],
   "source": [
    "with open(filename, 'r') as f:\n",
    "    for line in f.readlines():\n",
    "        print(line.replace(\"\\n\", \"\"))\n",
    "        \n",
    "f.close()"
   ]
  }
 ],
 "metadata": {
  "kernelspec": {
   "display_name": "Python 3",
   "language": "python",
   "name": "python3"
  },
  "language_info": {
   "codemirror_mode": {
    "name": "ipython",
    "version": 3
   },
   "file_extension": ".py",
   "mimetype": "text/x-python",
   "name": "python",
   "nbconvert_exporter": "python",
   "pygments_lexer": "ipython3",
   "version": "3.5.1"
  }
 },
 "nbformat": 4,
 "nbformat_minor": 0
}
