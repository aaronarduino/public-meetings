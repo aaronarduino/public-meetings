{
 "cells": [
  {
   "cell_type": "markdown",
   "metadata": {},
   "source": [
    "**Database connection and Meeting class code defined in Meeting.py**"
   ]
  },
  {
   "cell_type": "code",
   "execution_count": 1,
   "metadata": {
    "ExecuteTime": {
     "end_time": "2017-01-04T17:53:12.760676",
     "start_time": "2017-01-04T17:53:12.391767"
    },
    "collapsed": false
   },
   "outputs": [
    {
     "name": "stdout",
     "output_type": "stream",
     "text": [
      "281 meetings listed in 2017\n"
     ]
    }
   ],
   "source": [
    "from Meeting import get_meetings\n",
    "meetings = get_meetings()"
   ]
  },
  {
   "cell_type": "code",
   "execution_count": 2,
   "metadata": {
    "ExecuteTime": {
     "end_time": "2017-01-04T17:53:12.783687",
     "start_time": "2017-01-04T17:53:12.763928"
    },
    "collapsed": false
   },
   "outputs": [
    {
     "data": {
      "text/plain": [
       "['airport_board',\n",
       " 'boe',\n",
       " 'building_board',\n",
       " 'commision',\n",
       " 'council',\n",
       " 'county',\n",
       " 'dab',\n",
       " 'mech_board',\n",
       " 'subdivision']"
      ]
     },
     "execution_count": 2,
     "metadata": {},
     "output_type": "execute_result"
    }
   ],
   "source": [
    "meetings.types"
   ]
  },
  {
   "cell_type": "markdown",
   "metadata": {},
   "source": [
    "**Show meetings on days 10 until 20**"
   ]
  },
  {
   "cell_type": "code",
   "execution_count": 3,
   "metadata": {
    "ExecuteTime": {
     "end_time": "2017-01-04T17:53:12.810379",
     "start_time": "2017-01-04T17:53:12.787351"
    },
    "collapsed": false,
    "scrolled": true
   },
   "outputs": [
    {
     "data": {
      "text/plain": [
       "[Tue Jan 10 09:00 AM: City Council,\n",
       " Thu Jan 12 10:00 AM: Subdivision and Utility Advisory,\n",
       " Mon Jan 16 08:30 AM: County Staff,\n",
       " Mon Jan 16 09:00 AM: County Commision,\n",
       " Tue Jan 17 09:00 AM: City Council]"
      ]
     },
     "execution_count": 3,
     "metadata": {},
     "output_type": "execute_result"
    }
   ],
   "source": [
    "meetings[10:20]"
   ]
  },
  {
   "cell_type": "markdown",
   "metadata": {},
   "source": [
    "**Show meetings on Day 10**"
   ]
  },
  {
   "cell_type": "code",
   "execution_count": 4,
   "metadata": {
    "ExecuteTime": {
     "end_time": "2017-01-04T17:53:12.827532",
     "start_time": "2017-01-04T17:53:12.813556"
    },
    "collapsed": false
   },
   "outputs": [
    {
     "data": {
      "text/plain": [
       "Tue Jan 10 09:00 AM: City Council"
      ]
     },
     "execution_count": 4,
     "metadata": {},
     "output_type": "execute_result"
    }
   ],
   "source": [
    "meetings[10]"
   ]
  },
  {
   "cell_type": "markdown",
   "metadata": {},
   "source": [
    "**Filter for Board of Education (boe) meetings**"
   ]
  },
  {
   "cell_type": "code",
   "execution_count": 5,
   "metadata": {
    "ExecuteTime": {
     "end_time": "2017-01-04T17:53:13.009081",
     "start_time": "2017-01-04T17:53:12.831251"
    },
    "collapsed": false
   },
   "outputs": [
    {
     "data": {
      "text/plain": [
       "[Mon Jan 09 06:00 PM: Board of Education,\n",
       " Mon Jan 23 06:00 PM: Board of Education,\n",
       " Mon Feb 13 06:00 PM: Board of Education,\n",
       " Mon Feb 27 06:00 PM: Board of Education,\n",
       " Mon Mar 06 06:00 PM: Committee of the Whole,\n",
       " Mon Mar 13 06:00 PM: Board of Education,\n",
       " Mon Mar 27 06:00 PM: Board of Education,\n",
       " Mon Apr 03 06:00 PM: 99% Awards,\n",
       " Mon Apr 10 06:00 PM: Board of Education,\n",
       " Mon Apr 17 06:00 PM: Good Apples,\n",
       " Mon Apr 24 06:00 PM: Board of Education,\n",
       " Mon May 08 06:00 PM: Board of Education,\n",
       " Mon May 22 06:00 PM: Board of Education,\n",
       " Mon Jun 05 06:00 PM: Board of Education,\n",
       " Mon Jun 19 06:00 PM: Board of Education,\n",
       " Thu Jun 29 12:00 PM: Year-End Meeting]"
      ]
     },
     "execution_count": 5,
     "metadata": {},
     "output_type": "execute_result"
    }
   ],
   "source": [
    "meetings[lambda m: m.type == 'boe']"
   ]
  },
  {
   "cell_type": "code",
   "execution_count": 6,
   "metadata": {
    "ExecuteTime": {
     "end_time": "2017-01-04T17:53:13.105501",
     "start_time": "2017-01-04T17:53:13.017637"
    },
    "collapsed": false
   },
   "outputs": [
    {
     "data": {
      "text/html": [
       "\n",
       "                    <style>\n",
       "                        .red { color: #990000; font-weight: bold; }\n",
       "                    </style>\n",
       "                <p><span class=\"red\">Red: Meeting days</span></p><table border=\"0\" cellpadding=\"0\" cellspacing=\"0\" class=\"month\">\n",
       "<tr><th colspan=\"7\" class=\"month\">April 2017</th></tr>\n",
       "<tr><th class=\"sun\">Sun</th><th class=\"mon\">Mon</th><th class=\"tue\">Tue</th><th class=\"wed\">Wed</th><th class=\"thu\">Thu</th><th class=\"fri\">Fri</th><th class=\"sat\">Sat</th></tr>\n",
       "<tr><td class=\"noday\">&nbsp;</td><td class=\"noday\">&nbsp;</td><td class=\"noday\">&nbsp;</td><td class=\"noday\">&nbsp;</td><td class=\"noday\">&nbsp;</td><td class=\"noday\">&nbsp;</td><td class=\"sat\">1</td></tr>\n",
       "<tr><td class=\"sun\">2</td><td class=\"mon\"><span class=\"red\">3</span></td><td class=\"tue\"><span class=\"red\">4</span></td><td class=\"wed\"><span class=\"red\">5</span></td><td class=\"thu\"><span class=\"red\">6</span></td><td class=\"fri\">7</td><td class=\"sat\">8</td></tr>\n",
       "<tr><td class=\"sun\">9</td><td class=\"mon\"><span class=\"red\">10</span></td><td class=\"tue\"><span class=\"red\">11</span></td><td class=\"wed\">12</td><td class=\"thu\"><span class=\"red\">13</span></td><td class=\"fri\">14</td><td class=\"sat\">15</td></tr>\n",
       "<tr><td class=\"sun\">16</td><td class=\"mon\"><span class=\"red\">17</span></td><td class=\"tue\"><span class=\"red\">18</span></td><td class=\"wed\">19</td><td class=\"thu\">20</td><td class=\"fri\">21</td><td class=\"sat\">22</td></tr>\n",
       "<tr><td class=\"sun\">23</td><td class=\"mon\"><span class=\"red\">24</span></td><td class=\"tue\"><span class=\"red\">25</span></td><td class=\"wed\">26</td><td class=\"thu\"><span class=\"red\">27</span></td><td class=\"fri\">28</td><td class=\"sat\">29</td></tr>\n",
       "<tr><td class=\"sun\">30</td><td class=\"noday\">&nbsp;</td><td class=\"noday\">&nbsp;</td><td class=\"noday\">&nbsp;</td><td class=\"noday\">&nbsp;</td><td class=\"noday\">&nbsp;</td><td class=\"noday\">&nbsp;</td></tr>\n",
       "</table>\n"
      ],
      "text/plain": [
       "<IPython.core.display.HTML object>"
      ]
     },
     "metadata": {},
     "output_type": "display_data"
    },
    {
     "data": {
      "text/plain": [
       "[Mon Apr 03 08:30 AM: County Staff,\n",
       " Mon Apr 03 09:00 AM: County Commision,\n",
       " Mon Apr 03 01:00 PM: Board of Code Standards,\n",
       " Mon Apr 03 03:00 PM: Wichita Airport Advisory Board,\n",
       " Mon Apr 03 06:00 PM: 99% Awards,\n",
       " Mon Apr 03 06:30 PM: District I​ Advisory Board,\n",
       " Mon Apr 03 06:30 PM: District IV​ Advisory Board,\n",
       " Mon Apr 03 06:30 PM: District V​ Advisory Board,\n",
       " Mon Apr 03 06:30 PM: District V​I​ Advisory Board,\n",
       " Tue Apr 04 09:00 AM: City Council,\n",
       " Wed Apr 05 06:30 PM: District I​I​I​ Advisory Board,\n",
       " Thu Apr 06 09:00 AM: Mechanical Board,\n",
       " Mon Apr 10 08:30 AM: County Staff,\n",
       " Mon Apr 10 09:00 AM: County Commision,\n",
       " Mon Apr 10 06:00 PM: Board of Education,\n",
       " Mon Apr 10 06:30 PM: District I​I​ Advisory Board,\n",
       " Tue Apr 11 09:00 AM: City Council,\n",
       " Thu Apr 13 10:00 AM: Subdivision and Utility Advisory,\n",
       " Mon Apr 17 08:30 AM: County Staff,\n",
       " Mon Apr 17 09:00 AM: County Commision,\n",
       " Mon Apr 17 06:00 PM: Good Apples,\n",
       " Tue Apr 18 09:00 AM: City Council,\n",
       " Mon Apr 24 08:30 AM: County Staff,\n",
       " Mon Apr 24 06:00 PM: Board of Education,\n",
       " Tue Apr 25 09:00 AM: Consent/Workshop,\n",
       " Thu Apr 27 10:00 AM: Subdivision and Utility Advisory]"
      ]
     },
     "execution_count": 6,
     "metadata": {},
     "output_type": "execute_result"
    }
   ],
   "source": [
    "meetings[\"April\"]"
   ]
  },
  {
   "cell_type": "markdown",
   "metadata": {},
   "source": [
    "**Show Thursday meetings in February**"
   ]
  },
  {
   "cell_type": "code",
   "execution_count": 7,
   "metadata": {
    "ExecuteTime": {
     "end_time": "2017-01-04T17:53:13.120871",
     "start_time": "2017-01-04T17:53:13.110992"
    },
    "collapsed": false
   },
   "outputs": [
    {
     "data": {
      "text/plain": [
       "[Thu Feb 02 09:00 AM: Mechanical Board,\n",
       " Thu Feb 16 10:00 AM: Subdivision and Utility Advisory]"
      ]
     },
     "execution_count": 7,
     "metadata": {},
     "output_type": "execute_result"
    }
   ],
   "source": [
    "meetings[\"February\", \"Thu\"]"
   ]
  },
  {
   "cell_type": "code",
   "execution_count": 8,
   "metadata": {
    "ExecuteTime": {
     "end_time": "2017-01-04T17:53:13.128723",
     "start_time": "2017-01-04T17:53:13.123270"
    },
    "collapsed": false
   },
   "outputs": [
    {
     "data": {
      "text/plain": [
       "'{\"subtype\": \"regular\", \"date\": \"2017-01-10T09:00:00\", \"agenda\": \"http://www.wichita.gov/Government/Council/Agendas/01-10-2017%20Electronic%20City%20Council%20Agenda%20Packet.pdf\", \"description\": \"Provide policy direction for Wichita\", \"location\": \"455 N Main, 1st Floor Board Room Wichita, KS 67202\", \"email\": \"JCJohnson@wichita.gov;EGlock@wichita.gov;MLovely@wichita.gov;JHensley@wichita.gov;DLCityCouncilMembers@wichita.gov\", \"title\": \"City Council\", \"type\": \"council\", \"id\": 2, \"duration\": 120}'"
      ]
     },
     "execution_count": 8,
     "metadata": {},
     "output_type": "execute_result"
    }
   ],
   "source": [
    "meetings[10].to_json()"
   ]
  },
  {
   "cell_type": "code",
   "execution_count": 9,
   "metadata": {
    "ExecuteTime": {
     "end_time": "2017-01-04T17:53:13.218104",
     "start_time": "2017-01-04T17:53:13.133176"
    },
    "collapsed": false,
    "scrolled": false
   },
   "outputs": [
    {
     "name": "stdout",
     "output_type": "stream",
     "text": [
      "Meetings saved to files/meetings_2017.json\n"
     ]
    }
   ],
   "source": [
    "meetings.to_json(save=True)"
   ]
  }
 ],
 "metadata": {
  "kernelspec": {
   "display_name": "Python 3",
   "language": "python",
   "name": "python3"
  },
  "language_info": {
   "codemirror_mode": {
    "name": "ipython",
    "version": 3
   },
   "file_extension": ".py",
   "mimetype": "text/x-python",
   "name": "python",
   "nbconvert_exporter": "python",
   "pygments_lexer": "ipython3",
   "version": "3.5.1"
  }
 },
 "nbformat": 4,
 "nbformat_minor": 0
}
