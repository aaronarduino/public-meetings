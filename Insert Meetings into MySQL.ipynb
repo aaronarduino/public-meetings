{
 "cells": [
  {
   "cell_type": "markdown",
   "metadata": {},
   "source": [
    "**Add a meeting and 2017 dates to the database (code defined in Meeting.py)**"
   ]
  },
  {
   "cell_type": "code",
   "execution_count": 1,
   "metadata": {
    "ExecuteTime": {
     "end_time": "2017-01-03T21:26:39.798402",
     "start_time": "2017-01-03T21:26:39.045534"
    },
    "collapsed": true
   },
   "outputs": [],
   "source": [
    "import Meeting\n",
    "import calendar"
   ]
  },
  {
   "cell_type": "markdown",
   "metadata": {},
   "source": [
    "**Specify data for new type of meeting**"
   ]
  },
  {
   "cell_type": "code",
   "execution_count": 2,
   "metadata": {
    "ExecuteTime": {
     "end_time": "2017-01-03T21:26:39.822398",
     "start_time": "2017-01-03T21:26:39.806393"
    },
    "collapsed": false
   },
   "outputs": [],
   "source": [
    "fields = {\n",
    "    \"type\": \"mech_board\", # Machine name?\n",
    "    \"subtype\": None, # Only one kind o Mechanical Board meeting \n",
    "    \"title\": \"Mechanical Board\",\n",
    "    \"description\": \"\"\"Hear and decide from decisions made by the code enforcement director relative to the application \n",
    "            and interpretation of the mechanical code and to determine the suitability of alternate materials and types \n",
    "            of construction.\"\"\",\n",
    "    \"location\": \"Executive Room, 730 N Main\",\n",
    "    \"hour\": 9, # 9am\n",
    "    \"minute\": 0, # \n",
    "    \"duration\": 60, # minutes\n",
    "    \"email\": \"Thomas.Stolz@sedgwick.gov\",\n",
    "    \"agenda\": \"http://www.scks.info/MABCD/mb.aspx\" # agenda pdf links section on this page\n",
    "}"
   ]
  },
  {
   "cell_type": "markdown",
   "metadata": {},
   "source": [
    "**Insert meeting type into database**"
   ]
  },
  {
   "cell_type": "code",
   "execution_count": 3,
   "metadata": {
    "ExecuteTime": {
     "end_time": "2017-01-03T21:26:39.959501",
     "start_time": "2017-01-03T21:26:39.827161"
    },
    "collapsed": false
   },
   "outputs": [
    {
     "data": {
      "text/plain": [
       "20"
      ]
     },
     "execution_count": 3,
     "metadata": {},
     "output_type": "execute_result"
    }
   ],
   "source": [
    "meeting_id = Meeting.insert_meeting_type(fields)\n",
    "meeting_id"
   ]
  },
  {
   "cell_type": "markdown",
   "metadata": {},
   "source": [
    "**Generate dates for every other Thursday**"
   ]
  },
  {
   "cell_type": "code",
   "execution_count": 4,
   "metadata": {
    "ExecuteTime": {
     "end_time": "2017-01-03T21:26:40.039885",
     "start_time": "2017-01-03T21:26:39.964208"
    },
    "collapsed": false
   },
   "outputs": [
    {
     "data": {
      "text/plain": [
       "[[1, 5],\n",
       " [2, 2],\n",
       " [3, 2],\n",
       " [4, 6],\n",
       " [5, 4],\n",
       " [6, 8],\n",
       " [7, 6],\n",
       " [8, 3],\n",
       " [9, 7],\n",
       " [10, 5],\n",
       " [11, 2],\n",
       " [12, 7]]"
      ]
     },
     "execution_count": 4,
     "metadata": {},
     "output_type": "execute_result"
    }
   ],
   "source": [
    "meeting_dates = Meeting.get_meeting_dates(2017, calendar.THURSDAY, period=30) # only one meeting per month\n",
    "meeting_dates"
   ]
  },
  {
   "cell_type": "markdown",
   "metadata": {},
   "source": [
    "**Insert meeting dates for this new meeting type**"
   ]
  },
  {
   "cell_type": "code",
   "execution_count": 5,
   "metadata": {
    "ExecuteTime": {
     "end_time": "2017-01-03T21:26:40.187898",
     "start_time": "2017-01-03T21:26:40.046756"
    },
    "collapsed": false
   },
   "outputs": [
    {
     "name": "stdout",
     "output_type": "stream",
     "text": [
      "321 (20, 2017, 1, 5)\n",
      "322 (20, 2017, 2, 2)\n",
      "323 (20, 2017, 3, 2)\n",
      "324 (20, 2017, 4, 6)\n",
      "325 (20, 2017, 5, 4)\n",
      "326 (20, 2017, 6, 8)\n",
      "327 (20, 2017, 7, 6)\n",
      "328 (20, 2017, 8, 3)\n",
      "329 (20, 2017, 9, 7)\n",
      "330 (20, 2017, 10, 5)\n",
      "331 (20, 2017, 11, 2)\n",
      "332 (20, 2017, 12, 7)\n"
     ]
    }
   ],
   "source": [
    "# Prints meeting date row id, (meeting type row id, year, month, day)\n",
    "for month, day in meeting_dates:\n",
    "    Meeting.insert_meeting_dates(meeting_id, month, day)"
   ]
  }
 ],
 "metadata": {
  "kernelspec": {
   "display_name": "Python 3",
   "language": "python",
   "name": "python3"
  },
  "language_info": {
   "codemirror_mode": {
    "name": "ipython",
    "version": 3
   },
   "file_extension": ".py",
   "mimetype": "text/x-python",
   "name": "python",
   "nbconvert_exporter": "python",
   "pygments_lexer": "ipython3",
   "version": "3.5.1"
  }
 },
 "nbformat": 4,
 "nbformat_minor": 0
}
