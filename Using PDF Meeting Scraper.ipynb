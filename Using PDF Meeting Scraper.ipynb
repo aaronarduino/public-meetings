{
 "cells": [
  {
   "cell_type": "markdown",
   "metadata": {},
   "source": [
    "**Import the scraping function**\n",
    "\n",
    "Scraping code lives in the meetings_scraper.py file."
   ]
  },
  {
   "cell_type": "code",
   "execution_count": 1,
   "metadata": {
    "ExecuteTime": {
     "end_time": "2016-12-21T08:09:56.986631",
     "start_time": "2016-12-21T08:09:56.487231"
    },
    "collapsed": false
   },
   "outputs": [],
   "source": [
    "from meetings_scraper import get_meetings"
   ]
  },
  {
   "cell_type": "code",
   "execution_count": 2,
   "metadata": {
    "ExecuteTime": {
     "end_time": "2016-12-21T08:09:56.995772",
     "start_time": "2016-12-21T08:09:56.988370"
    },
    "collapsed": false
   },
   "outputs": [
    {
     "name": "stdout",
     "output_type": "stream",
     "text": [
      "Help on function get_meetings in module meetings_scraper:\n",
      "\n",
      "get_meetings(year=None)\n",
      "    Calls pdf scrapers for extracting meeting dates\n",
      "    \n",
      "    Parameters\n",
      "    ----------\n",
      "    year: four digit number of desired year\n",
      "          Defaults to None (scraper classes defautl to current year)\n",
      "    \n",
      "    Returns\n",
      "    -------\n",
      "    meetings: Combined and sorted list of meetings generated from online pdfs\n",
      "\n"
     ]
    }
   ],
   "source": [
    "help(get_meetings)"
   ]
  },
  {
   "cell_type": "markdown",
   "metadata": {},
   "source": [
    "**Call get_meetings function with year**\n",
    "\n",
    "Calls all the defined scrapers and puts into a single Meeting object list. Each meeting is a specific kind of Meeting object, depending on the scraper."
   ]
  },
  {
   "cell_type": "code",
   "execution_count": 3,
   "metadata": {
    "ExecuteTime": {
     "end_time": "2016-12-21T08:09:59.595988",
     "start_time": "2016-12-21T08:09:57.000925"
    },
    "collapsed": false
   },
   "outputs": [
    {
     "name": "stdout",
     "output_type": "stream",
     "text": [
      "2017 => http://www.wichita.gov/Government/Council/CityCouncilDocument/2017%20CITY%20COUNCIL%20MEETING%20SCHEDULE.pdf\n",
      "Meeting PDF written to file: files/CouncilMeeting_2017.pdf\n",
      "34 lines of text extracted\n",
      "44 meetings generated\n",
      "2017 => http://www.wichita.gov/Government/Departments/Planning/PlanningDocument/2017%20Subdivision%20Calendar.pdf\n",
      "Meeting PDF written to file: files/SubdivsionMeeting_2017.pdf\n",
      "24 meetings parsed\n"
     ]
    },
    {
     "data": {
      "text/plain": [
       "[Tue Jan 03 09:00 AM: Regular Council Meeting,\n",
       " Tue Jan 10 09:00 AM: Regular Council Meeting,\n",
       " Thu Jan 12 10:00 AM: Subdivision and Utility Advisory Meeting,\n",
       " Tue Jan 17 09:00 AM: Regular Council Meeting,\n",
       " Tue Jan 24 09:30 AM: Consent/Workshop Council Meeting,\n",
       " Thu Jan 26 10:00 AM: Subdivision and Utility Advisory Meeting,\n",
       " Tue Feb 07 09:00 AM: Regular Council Meeting,\n",
       " Tue Feb 14 09:00 AM: Regular Council Meeting,\n",
       " Thu Feb 16 10:00 AM: Subdivision and Utility Advisory Meeting,\n",
       " Tue Feb 21 09:00 AM: Regular Council Meeting,\n",
       " Tue Feb 28 09:30 AM: Consent/Workshop Council Meeting,\n",
       " Thu Mar 02 10:00 AM: Subdivision and Utility Advisory Meeting,\n",
       " Tue Mar 07 09:00 AM: Regular Council Meeting,\n",
       " Thu Mar 16 10:00 AM: Subdivision and Utility Advisory Meeting,\n",
       " Tue Mar 21 09:00 AM: Regular Council Meeting,\n",
       " Tue Mar 28 09:30 AM: Consent/Workshop Council Meeting,\n",
       " Thu Mar 30 10:00 AM: Subdivision and Utility Advisory Meeting,\n",
       " Tue Apr 04 09:00 AM: Regular Council Meeting,\n",
       " Tue Apr 11 09:00 AM: Regular Council Meeting,\n",
       " Thu Apr 13 10:00 AM: Subdivision and Utility Advisory Meeting,\n",
       " Tue Apr 18 09:00 AM: Regular Council Meeting,\n",
       " Tue Apr 25 09:30 AM: Consent/Workshop Council Meeting,\n",
       " Thu Apr 27 10:00 AM: Subdivision and Utility Advisory Meeting,\n",
       " Tue May 02 09:00 AM: Regular Council Meeting,\n",
       " Tue May 09 09:00 AM: Regular Council Meeting,\n",
       " Thu May 11 10:00 AM: Subdivision and Utility Advisory Meeting,\n",
       " Tue May 16 09:00 AM: Regular Council Meeting,\n",
       " Tue May 23 09:30 AM: Consent/Workshop Council Meeting,\n",
       " Thu May 25 10:00 AM: Subdivision and Utility Advisory Meeting,\n",
       " Tue Jun 06 09:00 AM: Regular Council Meeting,\n",
       " Tue Jun 13 09:00 AM: Regular Council Meeting,\n",
       " Thu Jun 15 10:00 AM: Subdivision and Utility Advisory Meeting,\n",
       " Tue Jun 20 09:00 AM: Regular Council Meeting,\n",
       " Tue Jun 27 09:30 AM: Consent/Workshop Council Meeting,\n",
       " Thu Jun 29 10:00 AM: Subdivision and Utility Advisory Meeting,\n",
       " Tue Jul 11 09:00 AM: Regular Council Meeting,\n",
       " Thu Jul 13 10:00 AM: Subdivision and Utility Advisory Meeting,\n",
       " Tue Jul 18 09:00 AM: Regular Council Meeting,\n",
       " Tue Jul 25 09:30 AM: Consent/Workshop Council Meeting,\n",
       " Thu Jul 27 10:00 AM: Subdivision and Utility Advisory Meeting,\n",
       " Tue Aug 01 09:00 AM: Regular Council Meeting,\n",
       " Tue Aug 08 09:00 AM: Regular Council Meeting,\n",
       " Tue Aug 15 09:00 AM: Regular Council Meeting,\n",
       " Thu Aug 17 10:00 AM: Subdivision and Utility Advisory Meeting,\n",
       " Tue Aug 22 09:30 AM: Consent/Workshop Council Meeting,\n",
       " Thu Aug 31 10:00 AM: Subdivision and Utility Advisory Meeting,\n",
       " Tue Sep 05 09:00 AM: Regular Council Meeting,\n",
       " Tue Sep 12 09:00 AM: Regular Council Meeting,\n",
       " Thu Sep 14 10:00 AM: Subdivision and Utility Advisory Meeting,\n",
       " Tue Sep 19 09:00 AM: Regular Council Meeting,\n",
       " Tue Sep 26 09:30 AM: Consent/Workshop Council Meeting,\n",
       " Thu Sep 28 10:00 AM: Subdivision and Utility Advisory Meeting,\n",
       " Tue Oct 03 09:00 AM: Regular Council Meeting,\n",
       " Tue Oct 10 09:00 AM: Regular Council Meeting,\n",
       " Thu Oct 12 10:00 AM: Subdivision and Utility Advisory Meeting,\n",
       " Tue Oct 17 09:00 AM: Regular Council Meeting,\n",
       " Tue Oct 24 09:30 AM: Consent/Workshop Council Meeting,\n",
       " Thu Oct 26 10:00 AM: Subdivision and Utility Advisory Meeting,\n",
       " Tue Nov 07 09:00 AM: Regular Council Meeting,\n",
       " Thu Nov 09 10:00 AM: Subdivision and Utility Advisory Meeting,\n",
       " Tue Nov 21 09:00 AM: Regular Council Meeting,\n",
       " Tue Nov 28 09:30 AM: Consent/Workshop Council Meeting,\n",
       " Thu Nov 30 10:00 AM: Subdivision and Utility Advisory Meeting,\n",
       " Tue Dec 05 09:00 AM: Regular Council Meeting,\n",
       " Tue Dec 12 09:00 AM: Regular Council Meeting,\n",
       " Thu Dec 14 10:00 AM: Subdivision and Utility Advisory Meeting,\n",
       " Tue Dec 19 09:00 AM: Regular Council Meeting,\n",
       " Thu Dec 28 10:00 AM: Subdivision and Utility Advisory Meeting]"
      ]
     },
     "execution_count": 3,
     "metadata": {},
     "output_type": "execute_result"
    }
   ],
   "source": [
    "meetings = get_meetings(2017)\n",
    "meetings"
   ]
  },
  {
   "cell_type": "markdown",
   "metadata": {},
   "source": [
    "**Get meetings in March**"
   ]
  },
  {
   "cell_type": "code",
   "execution_count": 4,
   "metadata": {
    "ExecuteTime": {
     "end_time": "2016-12-21T08:09:59.602758",
     "start_time": "2016-12-21T08:09:59.597963"
    },
    "collapsed": false
   },
   "outputs": [
    {
     "data": {
      "text/plain": [
       "[Thu Mar 02 10:00 AM: Subdivision and Utility Advisory Meeting,\n",
       " Tue Mar 07 09:00 AM: Regular Council Meeting,\n",
       " Thu Mar 16 10:00 AM: Subdivision and Utility Advisory Meeting,\n",
       " Tue Mar 21 09:00 AM: Regular Council Meeting,\n",
       " Tue Mar 28 09:30 AM: Consent/Workshop Council Meeting,\n",
       " Thu Mar 30 10:00 AM: Subdivision and Utility Advisory Meeting]"
      ]
     },
     "execution_count": 4,
     "metadata": {},
     "output_type": "execute_result"
    }
   ],
   "source": [
    "meetings[\"March\"]"
   ]
  },
  {
   "cell_type": "markdown",
   "metadata": {},
   "source": [
    "**Check for meeting on specific day**\n",
    "\n",
    "Uses string format of \"m/d\""
   ]
  },
  {
   "cell_type": "code",
   "execution_count": 5,
   "metadata": {
    "ExecuteTime": {
     "end_time": "2016-12-21T08:09:59.609299",
     "start_time": "2016-12-21T08:09:59.604567"
    },
    "collapsed": false
   },
   "outputs": [
    {
     "data": {
      "text/plain": [
       "True"
      ]
     },
     "execution_count": 5,
     "metadata": {},
     "output_type": "execute_result"
    }
   ],
   "source": [
    "\"4/18\" in meetings"
   ]
  },
  {
   "cell_type": "markdown",
   "metadata": {},
   "source": [
    "**Get meeting useing string format above**"
   ]
  },
  {
   "cell_type": "code",
   "execution_count": 6,
   "metadata": {
    "ExecuteTime": {
     "end_time": "2016-12-21T08:09:59.629410",
     "start_time": "2016-12-21T08:09:59.611928"
    },
    "collapsed": false
   },
   "outputs": [
    {
     "data": {
      "text/plain": [
       "Tue Apr 18 09:00 AM: Regular Council Meeting"
      ]
     },
     "execution_count": 6,
     "metadata": {},
     "output_type": "execute_result"
    }
   ],
   "source": [
    "meeting = meetings[\"4/18\"]\n",
    "meeting"
   ]
  },
  {
   "cell_type": "markdown",
   "metadata": {},
   "source": [
    "**Iterate over properties and print**\n",
    "\n",
    "★ Note:  Agenda PDF is put online 4 days before meeting. Final Agenda PDF is posted day before."
   ]
  },
  {
   "cell_type": "code",
   "execution_count": 7,
   "metadata": {
    "ExecuteTime": {
     "end_time": "2016-12-21T08:09:59.636003",
     "start_time": "2016-12-21T08:09:59.631696"
    },
    "collapsed": false
   },
   "outputs": [
    {
     "name": "stdout",
     "output_type": "stream",
     "text": [
      "summary: Regular Council Meeting\n",
      "location: 455 N Main, 1st Floor Board Room Wichita, KS 67202\n",
      "agenda_final: http://www.wichita.gov/Government/Council/Agendas/4-18-2017%20Final%20City%20Council%20Agenda%20Packet.pdf\n",
      "type: council\n",
      "agenda: http://www.wichita.gov/Government/Council/Agendas/4-18-2017%20City%20Council%20Agenda%20Packet.pdf\n",
      "description: Provide policy direction for Wichita\n",
      "date: 2017-04-18 09:00:00\n",
      "email: JCJohnson@wichita.gov;EGlock@wichita.gov;MLovely@wichita.gov;JHensley@wichita.gov;DLCityCouncilMembers@wichita.gov\n"
     ]
    }
   ],
   "source": [
    "for key, value in meeting:\n",
    "    print(\"{0}: {1}\".format(key, value))"
   ]
  },
  {
   "cell_type": "markdown",
   "metadata": {},
   "source": [
    "**Convert to ical format**\n",
    "\n",
    "Returns byte string for writing to .ics file."
   ]
  },
  {
   "cell_type": "code",
   "execution_count": 8,
   "metadata": {
    "ExecuteTime": {
     "end_time": "2016-12-21T08:09:59.643643",
     "start_time": "2016-12-21T08:09:59.638624"
    },
    "collapsed": false
   },
   "outputs": [
    {
     "data": {
      "text/plain": [
       "b'BEGIN:VCALENDAR\\r\\nBEGIN:VEVENT\\r\\nSUMMARY:Regular Council Meeting\\r\\nDTSTART;VALUE=DATE-TIME:20170418T090000\\r\\nDTEND;VALUE=DATE-TIME:20170418T110000\\r\\nDTSTAMP;VALUE=DATE-TIME:20170418T090000Z\\r\\nDESCRIPTION:Provide policy direction for Wichita\\r\\nLOCATION:455 N Main\\\\, 1st Floor Board Room Wichita\\\\, KS 67202\\r\\nURL:http://www.wichita.gov/Government/Council/Agendas/4-18-2017%20City%20C\\r\\n ouncil%20Agenda%20Packet.pdf\\r\\nEND:VEVENT\\r\\nEND:VCALENDAR\\r\\n'"
      ]
     },
     "execution_count": 8,
     "metadata": {},
     "output_type": "execute_result"
    }
   ],
   "source": [
    "meeting.to_ics()"
   ]
  },
  {
   "cell_type": "markdown",
   "metadata": {},
   "source": [
    "**Pass True to save file**"
   ]
  },
  {
   "cell_type": "code",
   "execution_count": 9,
   "metadata": {
    "ExecuteTime": {
     "end_time": "2016-12-21T08:09:59.650884",
     "start_time": "2016-12-21T08:09:59.646062"
    },
    "collapsed": false
   },
   "outputs": [
    {
     "name": "stdout",
     "output_type": "stream",
     "text": [
      "Meeting saved to files/council_meeting_4_18_2017.ics\n"
     ]
    }
   ],
   "source": [
    "# When save param is True, filename is returned instead\n",
    "filename = meeting.to_ics(save=True)"
   ]
  },
  {
   "cell_type": "markdown",
   "metadata": {},
   "source": [
    "**Read .ics file back in**"
   ]
  },
  {
   "cell_type": "code",
   "execution_count": 10,
   "metadata": {
    "ExecuteTime": {
     "end_time": "2016-12-21T08:09:59.666933",
     "start_time": "2016-12-21T08:09:59.655104"
    },
    "collapsed": false
   },
   "outputs": [
    {
     "name": "stdout",
     "output_type": "stream",
     "text": [
      "BEGIN:VCALENDAR\n",
      "BEGIN:VEVENT\n",
      "SUMMARY:Regular Council Meeting\n",
      "DTSTART;VALUE=DATE-TIME:20170418T090000\n",
      "DTEND;VALUE=DATE-TIME:20170418T110000\n",
      "DTSTAMP;VALUE=DATE-TIME:20170418T090000Z\n",
      "DESCRIPTION:Provide policy direction for Wichita\n",
      "LOCATION:455 N Main\\, 1st Floor Board Room Wichita\\, KS 67202\n",
      "URL:http://www.wichita.gov/Government/Council/Agendas/4-18-2017%20City%20C\n",
      " ouncil%20Agenda%20Packet.pdf\n",
      "END:VEVENT\n",
      "END:VCALENDAR\n"
     ]
    }
   ],
   "source": [
    "with open(filename, 'r') as f:\n",
    "    for line in f.readlines():\n",
    "        print(line.replace(\"\\n\", \"\"))\n",
    "        \n",
    "f.close()"
   ]
  },
  {
   "cell_type": "markdown",
   "metadata": {},
   "source": [
    "**Convert to json format**"
   ]
  },
  {
   "cell_type": "code",
   "execution_count": 11,
   "metadata": {
    "ExecuteTime": {
     "end_time": "2016-12-21T08:09:59.732868",
     "start_time": "2016-12-21T08:09:59.673317"
    },
    "collapsed": false
   },
   "outputs": [
    {
     "data": {
      "text/plain": [
       "'{\"summary\": \"Regular Council Meeting\", \"location\": \"455 N Main, 1st Floor Board Room Wichita, KS 67202\", \"agenda_final\": \"http://www.wichita.gov/Government/Council/Agendas/4-18-2017%20Final%20City%20Council%20Agenda%20Packet.pdf\", \"type\": \"council\", \"agenda\": \"http://www.wichita.gov/Government/Council/Agendas/4-18-2017%20City%20Council%20Agenda%20Packet.pdf\", \"description\": \"Provide policy direction for Wichita\", \"date\": \"2017-04-18T09:00:00\", \"email\": \"JCJohnson@wichita.gov;EGlock@wichita.gov;MLovely@wichita.gov;JHensley@wichita.gov;DLCityCouncilMembers@wichita.gov\"}'"
      ]
     },
     "execution_count": 11,
     "metadata": {},
     "output_type": "execute_result"
    }
   ],
   "source": [
    "meeting.to_json()"
   ]
  },
  {
   "cell_type": "markdown",
   "metadata": {},
   "source": [
    "**Save to file**"
   ]
  },
  {
   "cell_type": "code",
   "execution_count": 12,
   "metadata": {
    "ExecuteTime": {
     "end_time": "2016-12-21T08:09:59.810456",
     "start_time": "2016-12-21T08:09:59.740651"
    },
    "collapsed": false
   },
   "outputs": [
    {
     "name": "stdout",
     "output_type": "stream",
     "text": [
      "Meeting saved to files/council_meeting_4_18_2017.json\n"
     ]
    },
    {
     "data": {
      "text/plain": [
       "'files/council_meeting_4_18_2017.json'"
      ]
     },
     "execution_count": 12,
     "metadata": {},
     "output_type": "execute_result"
    }
   ],
   "source": [
    "meeting.to_json(save=True)"
   ]
  },
  {
   "cell_type": "markdown",
   "metadata": {},
   "source": [
    "**Convert to csv format**"
   ]
  },
  {
   "cell_type": "code",
   "execution_count": 13,
   "metadata": {
    "ExecuteTime": {
     "end_time": "2016-12-21T08:09:59.862227",
     "start_time": "2016-12-21T08:09:59.846945"
    },
    "collapsed": false
   },
   "outputs": [
    {
     "data": {
      "text/plain": [
       "'\"Regular Council Meeting\",\"455 N Main, 1st Floor Board Room Wichita, KS 67202\",\"http://www.wichita.gov/Government/Council/Agendas/4-18-2017%20Final%20City%20Council%20Agenda%20Packet.pdf\",\"council\",\"http://www.wichita.gov/Government/Council/Agendas/4-18-2017%20City%20Council%20Agenda%20Packet.pdf\",\"Provide policy direction for Wichita\",2017-04-18 09:00:00,\"JCJohnson@wichita.gov;EGlock@wichita.gov;MLovely@wichita.gov;JHensley@wichita.gov;DLCityCouncilMembers@wichita.gov\"'"
      ]
     },
     "execution_count": 13,
     "metadata": {},
     "output_type": "execute_result"
    }
   ],
   "source": [
    "meeting.to_csv()"
   ]
  },
  {
   "cell_type": "markdown",
   "metadata": {},
   "source": [
    "**Save to file**"
   ]
  },
  {
   "cell_type": "code",
   "execution_count": 14,
   "metadata": {
    "ExecuteTime": {
     "end_time": "2016-12-21T08:09:59.878753",
     "start_time": "2016-12-21T08:09:59.865366"
    },
    "collapsed": false
   },
   "outputs": [
    {
     "name": "stdout",
     "output_type": "stream",
     "text": [
      "Meeting saved to files/council_meeting_4_18_2017.csv\n"
     ]
    },
    {
     "data": {
      "text/plain": [
       "'files/council_meeting_4_18_2017.csv'"
      ]
     },
     "execution_count": 14,
     "metadata": {},
     "output_type": "execute_result"
    }
   ],
   "source": [
    "meeting.to_csv(save=True)"
   ]
  },
  {
   "cell_type": "markdown",
   "metadata": {},
   "source": [
    "**Filter for Consent/Workshops**"
   ]
  },
  {
   "cell_type": "code",
   "execution_count": 15,
   "metadata": {
    "ExecuteTime": {
     "end_time": "2016-12-21T08:09:59.895638",
     "start_time": "2016-12-21T08:09:59.885128"
    },
    "collapsed": false
   },
   "outputs": [
    {
     "data": {
      "text/plain": [
       "[Tue Jan 24 09:30 AM: Consent/Workshop Council Meeting,\n",
       " Tue Feb 28 09:30 AM: Consent/Workshop Council Meeting,\n",
       " Tue Mar 28 09:30 AM: Consent/Workshop Council Meeting,\n",
       " Tue Apr 25 09:30 AM: Consent/Workshop Council Meeting,\n",
       " Tue May 23 09:30 AM: Consent/Workshop Council Meeting,\n",
       " Tue Jun 27 09:30 AM: Consent/Workshop Council Meeting,\n",
       " Tue Jul 25 09:30 AM: Consent/Workshop Council Meeting,\n",
       " Tue Aug 22 09:30 AM: Consent/Workshop Council Meeting,\n",
       " Tue Sep 26 09:30 AM: Consent/Workshop Council Meeting,\n",
       " Tue Oct 24 09:30 AM: Consent/Workshop Council Meeting,\n",
       " Tue Nov 28 09:30 AM: Consent/Workshop Council Meeting]"
      ]
     },
     "execution_count": 15,
     "metadata": {},
     "output_type": "execute_result"
    }
   ],
   "source": [
    "# Filter creates a generator\n",
    "# list converts to a list\n",
    "list(filter(lambda meeting: 'Workshop' in meeting.summary, meetings))"
   ]
  },
  {
   "cell_type": "markdown",
   "metadata": {},
   "source": [
    "**Filter for Subdivsion meetings**"
   ]
  },
  {
   "cell_type": "code",
   "execution_count": 16,
   "metadata": {
    "ExecuteTime": {
     "end_time": "2016-12-21T08:09:59.905369",
     "start_time": "2016-12-21T08:09:59.897796"
    },
    "collapsed": false
   },
   "outputs": [
    {
     "data": {
      "text/plain": [
       "<filter at 0x1049392b0>"
      ]
     },
     "execution_count": 16,
     "metadata": {},
     "output_type": "execute_result"
    }
   ],
   "source": [
    "subdivisions = filter(lambda meeting: meeting.type == 'subdivision', meetings)\n",
    "subdivisions"
   ]
  },
  {
   "cell_type": "markdown",
   "metadata": {},
   "source": [
    "**Get the next (first) subdivsion meeting**"
   ]
  },
  {
   "cell_type": "code",
   "execution_count": 17,
   "metadata": {
    "ExecuteTime": {
     "end_time": "2016-12-21T08:09:59.917829",
     "start_time": "2016-12-21T08:09:59.908365"
    },
    "collapsed": false
   },
   "outputs": [
    {
     "data": {
      "text/plain": [
       "Thu Jan 12 10:00 AM: Subdivision and Utility Advisory Meeting"
      ]
     },
     "execution_count": 17,
     "metadata": {},
     "output_type": "execute_result"
    }
   ],
   "source": [
    "sub_meeting = next(subdivisions)\n",
    "sub_meeting"
   ]
  },
  {
   "cell_type": "markdown",
   "metadata": {},
   "source": [
    "**Iterate over and print properties**\n",
    "\n",
    "★ Note: Agenda and Plat Drawing PDFs are only put online a few days prior to meeting."
   ]
  },
  {
   "cell_type": "code",
   "execution_count": 18,
   "metadata": {
    "ExecuteTime": {
     "end_time": "2016-12-21T08:09:59.927553",
     "start_time": "2016-12-21T08:09:59.922345"
    },
    "collapsed": false
   },
   "outputs": [
    {
     "name": "stdout",
     "output_type": "stream",
     "text": [
      "summary => Subdivision and Utility Advisory Meeting\n",
      "location => The Ronald Reagan Building, 271 W. 3rd St N, Suite 203, Wichita KS 67201\n",
      "plat_drawings => http://www.wichita.gov/Government/Departments/Planning/AgendasMinutes/1-12-2017%20Subdivision%20Agenda%20-%20Plat%20drawings.pdf\n",
      "type => subdivision\n",
      "agenda => http://www.wichita.gov/Government/Departments/Planning/AgendasMinutes/1-12-2017%20Subdivision%20Agenda%20packet.pdf\n",
      "description => City utility design planning and review\n",
      "date => 2017-01-12 10:00:00\n",
      "email => nstrahl@wichita.gov\n"
     ]
    }
   ],
   "source": [
    "for key, value in sub_meeting:\n",
    "    print(key, \"=>\", value)"
   ]
  },
  {
   "cell_type": "markdown",
   "metadata": {},
   "source": [
    "**Convert meetings list to json and save to file**"
   ]
  },
  {
   "cell_type": "code",
   "execution_count": 19,
   "metadata": {
    "ExecuteTime": {
     "end_time": "2016-12-21T08:09:59.936658",
     "start_time": "2016-12-21T08:09:59.930100"
    },
    "collapsed": false,
    "scrolled": false
   },
   "outputs": [
    {
     "name": "stdout",
     "output_type": "stream",
     "text": [
      "Meetings saved to files/meetings_2017.json\n"
     ]
    }
   ],
   "source": [
    "meetings.to_json(True)"
   ]
  }
 ],
 "metadata": {
  "kernelspec": {
   "display_name": "Python 3",
   "language": "python",
   "name": "python3"
  },
  "language_info": {
   "codemirror_mode": {
    "name": "ipython",
    "version": 3
   },
   "file_extension": ".py",
   "mimetype": "text/x-python",
   "name": "python",
   "nbconvert_exporter": "python",
   "pygments_lexer": "ipython3",
   "version": "3.5.1"
  }
 },
 "nbformat": 4,
 "nbformat_minor": 0
}
